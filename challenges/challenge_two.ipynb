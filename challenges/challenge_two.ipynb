{
  "cells": [
    {
      "cell_type": "markdown",
      "id": "k-JIRqBlrumk",
      "metadata": {
        "id": "k-JIRqBlrumk"
      },
      "source": [
        "# Challenge 2: Kernel Ridge Regression and Kernel PCA\n",
        "\n",
        "<a target=\"_blank\" href=\"https://colab.research.google.com/github/LucaPennella/Intro_to_ML_23-24/blob/main/challenges/challenge_two.ipynb\">\n",
        "  <img src=\"https://colab.research.google.com/assets/colab-badge.svg\" alt=\"Open In Colab\"/>\n",
        "</a>\n",
        "\n",
        "The challenge is to show why it is better (or not) to use kernelised methods in two toy data sets, and find out which kernel is the most suitable for each.    \n",
        "There are two main tasks:\n",
        "1. Ridge Regression vs Kernel Ridge Regression\n",
        "2. PCA vs Kernel PCA\n",
        "\n",
        "Tip: *for the whole challenge, you can use ```sklearn```.*"
      ]
    },
    {
      "cell_type": "markdown",
      "id": "q6rNEQgYoSAM",
      "metadata": {
        "id": "q6rNEQgYoSAM"
      },
      "source": [
        "## 1. Ridge Regression\n",
        "Using the training and test data sets created in the following cell, what you have to do is:\n",
        "* Fit a linear Ridge Regression model;\n",
        "* Fit a Kernel Ridge Regression model with a Gaussian kernel and one with a Polynomial kernel. Through a grid search, see how different values for gamma for the Gaussian, and different degrees and values for the regularisation term for the Polynomial, change the line that gets fitted by the model.   \n",
        "Lastly, fit one last KRR with the best kernel and best parameters that you found (the ones that minimise the test error).\n",
        "\n",
        "For each subtask, calculate the RMSE on the test data set and plot a visual representation of each fitted line, also when trying different values for the parameters."
      ]
    },
    {
      "cell_type": "code",
      "execution_count": null,
      "id": "9FsvNVxZSA9T",
      "metadata": {
        "id": "9FsvNVxZSA9T"
      },
      "outputs": [],
      "source": [
        "import numpy as np\n",
        "import matplotlib as plt\n",
        "\n",
        "# create training dataset\n",
        "train_points = 20\n",
        "eps = np.random.normal(0, 1, train_points)\n",
        "\n",
        "X_train = np.linspace(-5, 5, train_points)\n",
        "y_train = (X_train+4) * (X_train+1) * (np.cos(X_train)-1) * (X_train-3) + eps\n",
        "\n",
        "X_train = X_train.reshape(-1, 1)\n",
        "y_train = y_train.reshape(-1, 1)\n",
        "\n",
        "# create testing data set\n",
        "test_points = 1000\n",
        "\n",
        "X_test = np.linspace(-5, 5, test_points)\n",
        "y_test = (X_test+4) * (X_test+1) * (np.cos(X_test)-1) * (X_test-3)\n",
        "\n",
        "X_test = X_test.reshape(-1, 1)\n",
        "y_test = y_test.reshape(-1, 1)"
      ]
    },
    {
      "cell_type": "markdown",
      "id": "fYLikne3oPst",
      "metadata": {
        "id": "fYLikne3oPst"
      },
      "source": [
        "## 2. PCA\n",
        "Using the training and test data sets created in the following cell, what you have to do is:\n",
        "* Fit a PCA model;\n",
        "* Fit a Kernel PCA model with a kernel of your choice.\n",
        "\n",
        "For each subtask, plot a visual representation of the projections and verify the accuracy of that kernel on the test data set using SVM."
      ]
    },
    {
      "cell_type": "code",
      "execution_count": null,
      "id": "eECFqhirwoGq",
      "metadata": {
        "id": "eECFqhirwoGq"
      },
      "outputs": [],
      "source": [
        "from sklearn.datasets import make_circles\n",
        "from sklearn.model_selection import train_test_split\n",
        "\n",
        "X, y = make_circles(n_samples=1000, noise=0.15, factor=0.2, random_state = 0)\n",
        "X_train, X_test, y_train, y_test = train_test_split(X, y, stratify = y, random_state=0)"
      ]
    },
    {
      "cell_type": "markdown",
      "id": "9FgwFlDQnDoO",
      "metadata": {
        "id": "9FgwFlDQnDoO"
      },
      "source": [
        "## 3. PCA pt.2\n",
        "Repeat the last point of the previous task with a dataset made with ```sklearn.datasets.make_classification()```. Find the best kernel, and comment on your discoveries in the report. What differences do you see with the previous data set?"
      ]
    }
  ],
  "metadata": {
    "colab": {
      "provenance": []
    },
    "kernelspec": {
      "display_name": "Python 3",
      "language": "python",
      "name": "python3"
    },
    "language_info": {
      "codemirror_mode": {
        "name": "ipython",
        "version": 3
      },
      "file_extension": ".py",
      "mimetype": "text/x-python",
      "name": "python",
      "nbconvert_exporter": "python",
      "pygments_lexer": "ipython3",
      "version": "3.7.10"
    }
  },
  "nbformat": 4,
  "nbformat_minor": 5
}
