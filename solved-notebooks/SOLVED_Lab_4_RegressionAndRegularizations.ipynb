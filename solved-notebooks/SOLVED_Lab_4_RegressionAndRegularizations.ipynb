{
  "cells": [
    {
      "cell_type": "markdown",
      "source": [
        "\n",
        "# Regularized Linear Regression and $K$-Fold Cross Validation"
      ],
      "metadata": {
        "id": "AHu99jMepOwx"
      },
      "id": "AHu99jMepOwx"
    },
    {
      "cell_type": "code",
      "execution_count": 1,
      "id": "7970569b",
      "metadata": {
        "id": "7970569b"
      },
      "outputs": [],
      "source": [
        "import numpy as np\n",
        "import matplotlib.pyplot as plt\n",
        "import numpy.linalg as LA # Import Linear Algebra module from NumPy\n",
        "from numpy.linalg import inv # Import the 'inv' function from Linear Algebra for matrix inversion"
      ]
    },
    {
      "cell_type": "markdown",
      "id": "d5b2873b",
      "metadata": {
        "id": "d5b2873b"
      },
      "source": [
        "Tasks for this lab:\n",
        "\n",
        "* Generate linearly separable data with different amount of noise;\n",
        "\n",
        "* Calculate the Least Square Regression (LSR) solution without or with regularization (Ridge, Lasso and Elastic Net);\n",
        "\n",
        "* Test which of the three methods achieve bettter test error."
      ]
    },
    {
      "cell_type": "markdown",
      "id": "2cebeee6",
      "metadata": {
        "id": "2cebeee6"
      },
      "source": [
        "## Data Generation for Regression (cfr Lab 1)\n"
      ]
    },
    {
      "cell_type": "code",
      "execution_count": 2,
      "id": "bb91a4f0",
      "metadata": {
        "id": "bb91a4f0"
      },
      "outputs": [],
      "source": [
        "def datagen(d, points, m, M, w, sigma):\n",
        "    \"\"\"\n",
        "    Parameters\n",
        "    ----------\n",
        "    d : int\n",
        "        Dimension of each data sample\n",
        "    points : int\n",
        "        Number of points to be generated\n",
        "    m : float\n",
        "        Lower bound for the domain of the data points\n",
        "    M : float\n",
        "        Upper bound for the domain of the data points\n",
        "    w : float array of dim d\n",
        "        Vector of weights of the linear model\n",
        "    sigma : float\n",
        "        Standard deviation of the noise eps\n",
        "    \"\"\"\n",
        "    X = np.zeros((points, d))\n",
        "    for i in range(points):\n",
        "        X[i,:] = np.random.uniform(m, M, d)\n",
        "    eps = np.random.normal(0, sigma, points)\n",
        "    y = np.dot(X, w) + eps\n",
        "    return X, y"
      ]
    },
    {
      "cell_type": "markdown",
      "source": [
        "The given Python code defines a function called `datagen` that generates random data points for a linear regression model with some added noise. Here's an explanation of what the code does:\n",
        "\n",
        "1. An empty array `X` is created with dimensions `(points, d)` to store the generated data points. Each row of this array represents a data sample, and each column represents a feature.\n",
        "\n",
        "2. A `for` loop iterates over each data point to be generated (`points` iterations).\n",
        "\n",
        "3. Inside the loop, a random data sample is generated and assigned to the `i`-th row of the `X` array. This random sample is generated using `np.random.uniform(m, M, d)`, which generates `n*d` random values within the range `[m, M]` for each feature of the data point.\n",
        "\n",
        "4. An array `eps` of random noise is generated using `np.random.normal(0, sigma, points)`. This array has the same length as the number of data points and represents random noise with a normal distribution and the specified standard deviation `sigma`.\n",
        "\n",
        "5. The target variable `y` is generated for each data point by taking the dot product of the data point `X[i]` and the weight vector `w`. Then, the corresponding noise value `eps[i]` is added to it. This simulates a linear regression model where the target variable is a linear combination of the features with some added Gaussian noise."
      ],
      "metadata": {
        "id": "kIYw4_n5ehIo"
      },
      "id": "kIYw4_n5ehIo"
    },
    {
      "cell_type": "code",
      "execution_count": 3,
      "id": "f6023feb",
      "metadata": {
        "id": "f6023feb"
      },
      "outputs": [],
      "source": [
        "# generate multi-dimensional regression dataset\n",
        "d = 100\n",
        "w = np.random.normal(0, 1, d)\n",
        "sigma = 0.1\n",
        "points = 1000\n",
        "m = -10\n",
        "M = 10\n",
        "\n",
        "X, y = datagen(d, points, m, M, w, sigma)"
      ]
    },
    {
      "cell_type": "markdown",
      "source": [
        "## Gradient Descent for (Regularized) Linear Regression\n",
        "\n",
        "Squared error loss and its gradient for **non-regularized linear regression** (cfr Lab 3):\n",
        "\n",
        "\n",
        "$$\n",
        "\\mathcal{L}=\\frac{1}{n}\\|y-Xw\\|_{2}^{2},\\;\\;\\;\\;\\nabla_{w} \\mathcal{L} = -\\frac{2}{n}X(y-Xw)\n",
        "$$"
      ],
      "metadata": {
        "id": "T_DDs-6nqtTL"
      },
      "id": "T_DDs-6nqtTL"
    },
    {
      "cell_type": "code",
      "execution_count": 4,
      "id": "ce46fb6f",
      "metadata": {
        "id": "ce46fb6f"
      },
      "outputs": [],
      "source": [
        "def SquareLoss(X, y, w):\n",
        "    \"\"\"\n",
        "    Parameters\n",
        "    ----------\n",
        "    X : array of float dim n x d\n",
        "        Matrix containing the dataset\n",
        "    y : array of float of dim n\n",
        "        Vector containing the ground truth value of each data point\n",
        "    w : array of float of dim d\n",
        "        Weights of the fitted line\n",
        "    \"\"\"\n",
        "    return LA.norm(y-X@w,2)"
      ]
    },
    {
      "cell_type": "markdown",
      "source": [
        "The function calculates the square loss as follows:\n",
        "\n",
        "1. `X @ w`: This is the matrix-vector multiplication of the dataset `X` with the weight vector `w`. It results in a vector of predicted values, one for each data point.\n",
        "\n",
        "2. `y - X @ w`: This computes the element-wise difference between the true values `y` and the predicted values obtained in the previous step.\n",
        "\n",
        "3. `LA.norm(y - X @ w, 2)`: This computes the L2 norm (Euclidean norm) of the vector obtained in step 2, which is essentially the square root of the sum of squared differences between true and predicted values.\n",
        "\n",
        "4. The computed L2 norm represents the square loss, which measures how well the linear model's predictions match the actual ground truth values. Smaller values indicate better model fit, while larger values indicate greater prediction errors."
      ],
      "metadata": {
        "id": "OdOatMMic5Bp"
      },
      "id": "OdOatMMic5Bp"
    },
    {
      "cell_type": "code",
      "source": [
        "def OLSGradient(X, y, w, points):\n",
        "    return (-2/points)*((y-X@w)@X)\n",
        "\n",
        "\n",
        "def GD(X, y, iter, gamma, points, d):\n",
        "    \"\"\"\n",
        "    Parameters\n",
        "    ----------\n",
        "    X : array of float dim n x d\n",
        "        Matrix containing the dataset\n",
        "    y : array of float of dim n\n",
        "        Vector containing the ground truth value of each data point\n",
        "    iter : int\n",
        "        Number of GD iterations\n",
        "    gamma : float\n",
        "        Learning rate\n",
        "    points : int\n",
        "        Number of points in our dataset\n",
        "    d : int\n",
        "        Dimensionality of each data point in the dataset\n",
        "    \"\"\"\n",
        " # Initialize arrays to store weights and losses\n",
        "    W = np.zeros((d, iter)) # To store weights at each iteration\n",
        "    L = np.zeros(iter) # To store losses at each iteration\n",
        "\n",
        "    # Initialize the weight vector w with small random values\n",
        "    w = np.random.normal(0, 0.1, d)\n",
        "\n",
        "    # GD iterations\n",
        "    for i in range(iter):\n",
        "        # Store the current weight vector in W\n",
        "        W[:,i] = w\n",
        "\n",
        "        # Update the weight vector w using Gradient Descent\n",
        "        # The update rule is based on the gradient of the loss\n",
        "        w = w + (2*gamma/points)*((y-X@w)@X)\n",
        "\n",
        "        # Calculate and store the loss at the current iteration\n",
        "        L[i] = SquareLoss(X,y,w)\n",
        "\n",
        "    # Return the history of weight vectors and loss values\n",
        "    return W, L"
      ],
      "metadata": {
        "id": "zawNv0FP6f_Z"
      },
      "id": "zawNv0FP6f_Z",
      "execution_count": 5,
      "outputs": []
    },
    {
      "cell_type": "code",
      "execution_count": 6,
      "id": "54d4832d",
      "metadata": {
        "id": "54d4832d",
        "colab": {
          "base_uri": "https://localhost:8080/"
        },
        "outputId": "487fa28c-1509-480e-ca78-ce2ec7b8fdaf"
      },
      "outputs": [
        {
          "output_type": "stream",
          "name": "stdout",
          "text": [
            "L2 Norm of the Difference Between Ground Truth Weigths and Predicted Weights:  0.006048822428807377\n"
          ]
        }
      ],
      "source": [
        "# Determine the dimensionality of the dataset\n",
        "d = np.shape(X)[1]\n",
        "\n",
        "iter = 100\n",
        "points = 100\n",
        "gamma = 0.001\n",
        "\n",
        "# Apply Gradient Descent (GD) to train a linear regression model\n",
        "wgd, L = GD(X, y, iter, gamma, points, d)\n",
        "\n",
        "# the last stored weights are the most updated ones\n",
        "wpred = wgd[:,-1]\n",
        "\n",
        "print('L2 Norm of the Difference Between Ground Truth Weigths and Predicted Weights: ', LA.norm(w-wpred,2))"
      ]
    },
    {
      "cell_type": "markdown",
      "id": "fa2126dd",
      "metadata": {
        "id": "fa2126dd"
      },
      "source": [
        "Squared error loss and its gradient for **Ridge regression**:\n",
        "\n",
        "$$\n",
        "L=\\|y-Xw\\|_{2}^{2}+\\lambda\\|w\\|_{2}^{2},\\;\\;\\;\\;\\nabla_{w} L = -X(y-Xw)+2\\lambda w\n",
        "$$\n",
        "\n",
        "- λ (lambda) is a hyperparameter that controls the amount of regularization applied to the model.\n",
        "\n",
        "Ridge Regression performs $L2$ regularization, i.e. it minimizes the penalized sum of squares in such a way that smaller $w$ are preferred, indeed the closer the $w$ are to $0$, the smaller is the loss function.\n",
        "Ridge Regression tends to shrink the coefficients, especially those that are not very informative, towards zero.\n"
      ]
    },
    {
      "cell_type": "code",
      "execution_count": 7,
      "id": "98b8e844",
      "metadata": {
        "id": "98b8e844"
      },
      "outputs": [],
      "source": [
        "def RidgeSquareLoss(X, y, w, lam):\n",
        "    \"\"\"\n",
        "    Parameters\n",
        "    ----------\n",
        "    X : array of float dim n x d\n",
        "        Matrix containing the dataset\n",
        "    y : array of float of dim n\n",
        "        Vector containing the ground truth value of each data point\n",
        "    w : array of float of dim d\n",
        "        Weights of the fitted line1995\n",
        "    lam : float\n",
        "        Weight of the L2 penalty term\n",
        "    \"\"\"\n",
        "    return SquareLoss(X, y, w) + lam*LA.norm(w,2)\n",
        "\n",
        "\n",
        "def RidgeGradient(w, lam):\n",
        "    return 2*lam*w"
      ]
    },
    {
      "cell_type": "code",
      "source": [
        "def GDRidge(X, y, iter, gamma, points, d, lam):\n",
        "    \"\"\"\n",
        "    Parameters\n",
        "    ----------\n",
        "    X : array of float dim n x d\n",
        "        Matrix containing the dataset\n",
        "    y : array of float of dim n\n",
        "        Vector containing the ground truth value of each data point\n",
        "    iter : int\n",
        "        Number of GD iterations\n",
        "    gamma : float\n",
        "        Learning rate\n",
        "    points : int\n",
        "        Number of points in our dataset\n",
        "    d : int\n",
        "        Dimensionality of each data point in the dataset\n",
        "    lam : float\n",
        "        Weight of the L2 penalty term\n",
        "    \"\"\"\n",
        "    W = np.zeros((d, iter))  # Array to store weights at each iteration\n",
        "    L = np.zeros(iter)       # Array to store loss values at each iteration\n",
        "    w = np.zeros(d)          # Initialize weights with zeros\n",
        "\n",
        "    for i in range(iter):\n",
        "        W[:, i] = w  # Store the current weights in the W array\n",
        "        # Update weights using gradient descent with both OLS and Ridge components\n",
        "        w = w - gamma * (OLSGradient(X, y, w, points) + RidgeGradient(w, lam))\n",
        "        # Calculate and store the current loss value with Ridge regularization\n",
        "        L[i] = RidgeSquareLoss(X, y, w, lam)\n",
        "\n",
        "    return W, L\n"
      ],
      "metadata": {
        "id": "hTSmLQSKrm3w"
      },
      "id": "hTSmLQSKrm3w",
      "execution_count": 8,
      "outputs": []
    },
    {
      "cell_type": "code",
      "execution_count": 9,
      "id": "d191cff8",
      "metadata": {
        "id": "d191cff8",
        "outputId": "429554ec-3d50-4bb4-becf-fcf931cf0480",
        "colab": {
          "base_uri": "https://localhost:8080/"
        }
      },
      "outputs": [
        {
          "output_type": "stream",
          "name": "stdout",
          "text": [
            "L2 Norm of the Difference Between Ground Truth Weigths and Predicted Weights:  0.007288313325458229\n"
          ]
        }
      ],
      "source": [
        "d = np.shape(X)[1]\n",
        "iter = 100\n",
        "points = 100\n",
        "gamma = 0.001\n",
        "lam = 0.1\n",
        "\n",
        "wgdR, L = GDRidge(X, y, iter, gamma, points, d, lam)\n",
        "wpredR = wgdR[:,-1]\n",
        "print('L2 Norm of the Difference Between Ground Truth Weigths and Predicted Weights: ', LA.norm(w-wpredR,2))"
      ]
    },
    {
      "cell_type": "code",
      "execution_count": 10,
      "id": "68e1323c",
      "metadata": {
        "id": "68e1323c",
        "outputId": "da57f98d-2ede-499d-e1ab-72d0c04592ef",
        "colab": {
          "base_uri": "https://localhost:8080/",
          "height": 472
        }
      },
      "outputs": [
        {
          "output_type": "display_data",
          "data": {
            "text/plain": [
              "<Figure size 640x480 with 1 Axes>"
            ],
            "image/png": "[encoded data removed]"
          },
          "metadata": {}
        }
      ],
      "source": [
        "plt.plot(L)\n",
        "plt.title('Loss Ridge')\n",
        "plt.xlabel('Iter')\n",
        "plt.ylabel('Loss')\n",
        "plt.show()"
      ]
    },
    {
      "cell_type": "markdown",
      "id": "d5983a6e",
      "metadata": {
        "id": "d5983a6e"
      },
      "source": [
        "Squared error loss and its gradient for **Lasso (Least Absolute Shrinkage and Selection Operator) regularization**:\n",
        "\n",
        "$$\n",
        "L=\\|y-Xw\\|_{2}^{2}+\\lambda\\|w\\|_{1},\\;\\;\\;\\;\\nabla_{w} L = pr[-X(y-Xw)]\n",
        "$$\n",
        "\n",
        "This regularization method is useful for feature selection as it can lead to some of the feature coefficients becoming exactly zero. This means that Lasso not only helps in fitting a model to the data but also acts as an automatic feature selector, effectively ignoring some features during the modeling process.\n",
        "\n",
        "Since we cannot compute the gradient of the penalization term (as it is not differentiable at $0$), we will use **subgradient descent**, that is an algorithm for minimizing a nondifferentialble convex function.\n",
        "\n",
        "We define the sub-differential of the absolute value function as:\n",
        "\n",
        "$$\n",
        "\\partial \\|w\\|_1 = \\left\\{\\begin{matrix}\n",
        "1 & w>0 \\\\  \n",
        "-1 & w<0 \\\\\n",
        "0 & w=0\n",
        "\\end{matrix}\\right.\n",
        "$$\n",
        "\n",
        "Hence:\n",
        "\n",
        "$$\n",
        "\\nabla_{w} L = -\\frac{2}{n}\\cdot-X(y-Xw))+\\lambda \\partial \\|w\\|_1\n",
        "$$\n",
        "\n",
        "This gradient includes two terms: the first term handles the squared error loss, while the second term incorporates the subdifferential of the L1 penalty term. The regularization strength $\\lambda$ controls the impact of the L1 penalty on the optimization process, allowing for the shrinking of coefficients towards zero, effectively achieving feature selection."
      ]
    },
    {
      "cell_type": "code",
      "execution_count": 11,
      "id": "0ffaf90e",
      "metadata": {
        "id": "0ffaf90e"
      },
      "outputs": [],
      "source": [
        "def LassoSquareLoss(X, y, w, lam):\n",
        "    \"\"\"\n",
        "    Parameters\n",
        "    ----------\n",
        "    X : array of float dim n x d\n",
        "        Matrix containing the dataset\n",
        "    y : array of float of dim n\n",
        "        Vector containing the ground truth value of each data point\n",
        "    w : array of float of dim d\n",
        "        Weights of the fitted line\n",
        "    lam : float\n",
        "        Weight of the L1 penalty term\n",
        "    \"\"\"\n",
        "    return SquareLoss(X, y, w) + lam*LA.norm(w,1)"
      ]
    },
    {
      "cell_type": "code",
      "execution_count": 23,
      "id": "ae67c0d3",
      "metadata": {
        "id": "ae67c0d3"
      },
      "outputs": [],
      "source": [
        "def L1_subgradient(z):\n",
        "    \"\"\"\n",
        "    Compute the subgradient of the absolute value function element-wise.\n",
        "\n",
        "    Parameters:\n",
        "    ----------\n",
        "    z : array-like\n",
        "        Input array for which the subgradient is calculated.\n",
        "\n",
        "    Returns:\n",
        "    ----------\n",
        "    g : array-like\n",
        "        Subgradient of the absolute value function applied element-wise to `z`.\n",
        "    \"\"\"\n",
        "    # Create an array g of the same shape as z, initialized with all 1s.\n",
        "    g = np.ones(z.shape)\n",
        "\n",
        "    # Check each element of z.\n",
        "    for i in range(z.shape[0]):\n",
        "    # If the element is negative, set the corresponding element in g to -1.\n",
        "       if z[i] < 0.:\n",
        "          g[i] = -1.0\n",
        "    # If the element is zero, set the corresponding element in g to 0.\n",
        "       elif z[i] == 0.:\n",
        "         g[i] = 0.0\n",
        "\n",
        "\n",
        "    # Return the resulting array g, representing the subgradient.\n",
        "    return g\n",
        "\n",
        "def LassoGradient(w, lam):\n",
        "    return lam * L1_subgradient(w)"
      ]
    },
    {
      "cell_type": "code",
      "execution_count": 24,
      "id": "e74e3bb5",
      "metadata": {
        "id": "e74e3bb5"
      },
      "outputs": [],
      "source": [
        "def GDLasso(X, y, iter, gamma, points, d, lam):\n",
        "    \"\"\"\n",
        "    Perform Gradient Descent for Lasso (L1-regularized) Linear Regression.\n",
        "\n",
        "    Parameters:\n",
        "    ----------\n",
        "    X : array-like, shape (n, d)\n",
        "        Matrix containing the dataset.\n",
        "    y : array-like, shape (n,)\n",
        "        Vector containing the ground truth values of each data point.\n",
        "    iter : int\n",
        "        Number of GD iterations.\n",
        "    gamma : float\n",
        "        Learning rate.\n",
        "    points : int\n",
        "        Number of points in the dataset.\n",
        "    d : int\n",
        "        Dimensionality of each data point in the dataset.\n",
        "    lam : float\n",
        "        Weight of the L1 penalty term.\n",
        "\n",
        "    Returns:\n",
        "    ----------\n",
        "    W : array-like, shape (d, iter)\n",
        "        Matrix to store weights at each iteration.\n",
        "    L : array-like, shape (iter,)\n",
        "        Array to store loss values at each iteration.\n",
        "    \"\"\"\n",
        "    # Initialize arrays to store weights and loss values.\n",
        "    W = np.zeros((d, iter))\n",
        "    L = np.zeros(iter)\n",
        "\n",
        "    # Initialize weights with random values.\n",
        "    w = np.random.normal(0, 0.1, d)\n",
        "\n",
        "    # Perform gradient descent iterations.\n",
        "    for i in range(iter):\n",
        "        # Store the current weight vector in the W matrix.\n",
        "        W[:, i] = w\n",
        "\n",
        "        # Update the weight vector using the gradient of Lasso (L1-regularized) loss.\n",
        "        w = w - gamma * (OLSGradient(X, y, w, points) + LassoGradient(w, lam))\n",
        "\n",
        "        # Calculate and store the loss value for this iteration.\n",
        "        L[i] = LassoSquareLoss(X, y, w, lam)\n",
        "\n",
        "    # Return the matrix of weight vectors and the array of loss values.\n",
        "    return W, L"
      ]
    },
    {
      "cell_type": "code",
      "execution_count": 25,
      "id": "112b21eb",
      "metadata": {
        "id": "112b21eb",
        "outputId": "ed355183-fbf2-4cc7-bf9d-b84b8c9c3be8",
        "colab": {
          "base_uri": "https://localhost:8080/"
        }
      },
      "outputs": [
        {
          "output_type": "stream",
          "name": "stdout",
          "text": [
            "L2 Norm of the Difference Between Ground Truth Weigths and Predicted Weights:  13.966737204755\n"
          ]
        }
      ],
      "source": [
        "d = np.shape(X)[1]\n",
        "iter = 100\n",
        "points = 100\n",
        "gamma = 0.001\n",
        "lam = 0.1\n",
        "\n",
        "wgdL, L = GDLasso(X, y, iter, gamma, points, d, lam)\n",
        "wpredL = wgdL[:,-1]\n",
        "\n",
        "print('L2 Norm of the Difference Between Ground Truth Weigths and Predicted Weights: ', LA.norm(w-wpredL,2))"
      ]
    },
    {
      "cell_type": "code",
      "execution_count": 26,
      "id": "5bc9e1c9",
      "metadata": {
        "id": "5bc9e1c9",
        "outputId": "bb3938d9-0f5b-4a6b-e028-4774f3588054",
        "colab": {
          "base_uri": "https://localhost:8080/",
          "height": 472
        }
      },
      "outputs": [
        {
          "output_type": "display_data",
          "data": {
            "text/plain": [
              "<Figure size 640x480 with 1 Axes>"
            ],
            "image/png": "[encoded data removed]"
          },
          "metadata": {}
        }
      ],
      "source": [
        "plt.plot(L)\n",
        "plt.title('Loss Lasso')\n",
        "plt.xlabel('Iter')\n",
        "plt.ylabel('Loss')\n",
        "plt.show()"
      ]
    },
    {
      "cell_type": "markdown",
      "id": "a93eed78",
      "metadata": {
        "id": "a93eed78"
      },
      "source": [
        "## Elastic Net\n",
        "\n",
        "Elastic Net is a regularized regression method that combines the L1 and L2 penalties of the Lasso and Ridge methods, respectively. This combination allows it to harness the benefits of both techniques.\n",
        "The loss function to minimize is defined as:\n",
        "\n",
        "$$\n",
        "L=\\|y-Xw\\|_{2}^{2}+\\lambda_1\\|w\\|_{1} + \\lambda_2 \\|w\\|_2\n",
        "$$\n",
        "\n",
        "Hence in this problem we have $2$ parameters to tune.\n",
        "\n",
        "We can rewrite the problem as follows, so that we have only $1$ parameter $\\lambda$ to tune (i.e. as a convex combination of Ridge and Lasso penalties):\n",
        "\n",
        "$$\n",
        "L=\\|y-Xw\\|_{2}^{2}+(\\lambda_r) \\cdot \\lambda\\|w\\|_{1} + (1 - \\lambda_r) \\cdot \\lambda \\|w\\|_2\n",
        "$$\n",
        "\n",
        "where $\\lambda_r$, which is provided in input, is the _importance_ given to the $L1$ penalty (the opposite is also possible)."
      ]
    },
    {
      "cell_type": "markdown",
      "source": [
        "1. Since the derivative of the sum is the sum of the derivatives, put together all the elements seen so far and implement the GD algorithm for ElasticNet"
      ],
      "metadata": {
        "id": "u34ose8j-xQC"
      },
      "id": "u34ose8j-xQC"
    },
    {
      "cell_type": "code",
      "source": [
        "# Elastic Net Loss Function\n",
        "def ElasticNetSquareLoss(X, y, w, lr, l):\n",
        "    \"\"\"\n",
        "    Calculate the Elastic Net loss for linear regression.\n",
        "\n",
        "    Parameters\n",
        "    ----------\n",
        "    X : array of float dim n x d\n",
        "        Matrix containing the dataset.\n",
        "    y : array of float of dim n\n",
        "        Vector containing the ground truth value of each data point.\n",
        "    w : array of float of dim d\n",
        "        Weights of the fitted line.\n",
        "    lr : float\n",
        "        Convex combination parameter (controls L1 vs. L2 regularization).\n",
        "    l : float\n",
        "        Regularization strength parameter.\n",
        "\n",
        "    Returns\n",
        "    -------\n",
        "    loss : float\n",
        "        Elastic Net loss.\n",
        "    \"\"\"\n",
        "    return SquareLoss(X, y, w) + lr * l * LA.norm(w, 1) + (1 - lr) * l * LA.norm(w, 2)\n",
        "\n",
        "# Elastic Net Gradient Function\n",
        "def ElasticNetGradient(X, y, w, lr, l, points):\n",
        "    \"\"\"\n",
        "    Calculate the gradient for Elastic Net regularization.\n",
        "\n",
        "    Parameters\n",
        "    ----------\n",
        "    X : array of float dim n x d\n",
        "        Matrix containing the dataset.\n",
        "    y : array of float of dim n\n",
        "        Vector containing the ground truth value of each data point.\n",
        "    w : array of float of dim d\n",
        "        Weights of the fitted line.\n",
        "    lr : float\n",
        "        Convex combination parameter (controls L1 vs. L2 regularization).\n",
        "    l : float\n",
        "        Regularization strength parameter.\n",
        "    points : int\n",
        "        Number of data points.\n",
        "\n",
        "    Returns\n",
        "    -------\n",
        "    gradient : array of float of dim d\n",
        "        Gradient of the Elastic Net regularization term.\n",
        "    \"\"\"\n",
        "    return OLSGradient(X, y, w, points) + (1 - lr) * RidgeGradient(w, l) + lr * LassoGradient(w, l)\n",
        "\n",
        "# Gradient Descent with Elastic Net Regularization\n",
        "def GDElasticNet(X, y, lr, l, iter, gamma):\n",
        "    \"\"\"\n",
        "    Perform Gradient Descent with Elastic Net regularization for linear regression.\n",
        "\n",
        "    Parameters\n",
        "    ----------\n",
        "    X : array of float dim n x d\n",
        "        Matrix containing the dataset.\n",
        "    y : array of float of dim n\n",
        "        Vector containing the ground truth value of each data point.\n",
        "    lr : float\n",
        "        Convex combination parameter (controls L1 vs. L2 regularization).\n",
        "    l : float\n",
        "        Regularization strength parameter.\n",
        "    iter : int\n",
        "        Number of GD iterations.\n",
        "    gamma : float\n",
        "        Learning rate.\n",
        "\n",
        "    Returns\n",
        "    -------\n",
        "    W : array of float of dim d x iter\n",
        "        Weight vectors at each iteration.\n",
        "    L : array of float of dim iter\n",
        "        Loss values at each iteration.\n",
        "    \"\"\"\n",
        "    points = X.shape[0]\n",
        "    d = X.shape[1]\n",
        "    W = np.zeros((d, iter))\n",
        "    L = np.zeros(iter)\n",
        "    w = np.random.normal(0, 0.1, d)\n",
        "    for i in range(iter):\n",
        "        W[:, i] = w\n",
        "        w = w - gamma * ElasticNetGradient(X, y, w, lr, l, points)\n",
        "        L[i] = ElasticNetSquareLoss(X, y, w, lr, l)\n",
        "    return W, L\n"
      ],
      "metadata": {
        "id": "RbYkxI2Svefk"
      },
      "id": "RbYkxI2Svefk",
      "execution_count": 16,
      "outputs": []
    },
    {
      "cell_type": "code",
      "source": [
        "iter = 100\n",
        "gamma = 0.001\n",
        "lam = 0.1\n",
        "lr = 0.5\n",
        "\n",
        "wgdE, L = GDElasticNet(X, y, lr, lam, iter, gamma)\n",
        "wpredE = wgdL[:,-1]\n",
        "\n",
        "print('L2 Norm of the Difference Between Ground Truth Weigths and Predicted Weights: ', LA.norm(w-wpredE,2))"
      ],
      "metadata": {
        "id": "ffuwT43mBztP",
        "outputId": "108960a6-b832-42f7-e913-5fcd55de27d9",
        "colab": {
          "base_uri": "https://localhost:8080/"
        }
      },
      "id": "ffuwT43mBztP",
      "execution_count": 17,
      "outputs": [
        {
          "output_type": "stream",
          "name": "stdout",
          "text": [
            "L2 Norm of the Difference Between Ground Truth Weigths and Predicted Weights:  0.006229601448557512\n"
          ]
        }
      ]
    },
    {
      "cell_type": "code",
      "source": [
        "plt.plot(L)\n",
        "plt.title('Loss Lasso')\n",
        "plt.xlabel('Iter')\n",
        "plt.ylabel('Loss')\n",
        "plt.show()"
      ],
      "metadata": {
        "id": "dx_SneTtCJJr",
        "outputId": "eaa32d07-f517-45ad-c5a8-2f46e7b850df",
        "colab": {
          "base_uri": "https://localhost:8080/",
          "height": 472
        }
      },
      "id": "dx_SneTtCJJr",
      "execution_count": 18,
      "outputs": [
        {
          "output_type": "display_data",
          "data": {
            "text/plain": [
              "<Figure size 640x480 with 1 Axes>"
            ],
            "image/png": "[encoded data removed]"
          },
          "metadata": {}
        }
      ]
    },
    {
      "cell_type": "markdown",
      "source": [
        "## $K$-fold Cross Validation\n",
        "\n",
        "$K$-fold Cross Validation is a resampling technique used to estimate the performance and evaluate the robustness of a machine learning algorithm on unseen data. The parameter $K$ represents the number of non-overlapping subsets into which we partition our dataset. The general procedure involves the following steps:\n",
        "\n",
        "1. **Shuffle the Dataset Randomly**: The dataset is randomly shuffled to ensure that it is not ordered in any specific way, preventing any inherent patterns from affecting the results.\n",
        "\n",
        "2. **Split the Dataset into $K$ Groups**: The dataset is divided into $K$ groups, each containing approximately the same number of data points.\n",
        "\n",
        "3. **Validation and Training**: For each of the $K$ groups, the following steps are performed:\n",
        "   - Group $k$ is used as the validation set.\n",
        "   - All the other $(K-1)$ groups are combined and used as the training set.\n",
        "   - The machine learning model is trained on the training set and evaluated on the validation set.\n",
        "\n",
        "4. **Summarize Results**: The results obtained from the $K$ validation runs are summarized, typically by calculating metrics like accuracy, mean squared error, or any relevant evaluation metric. Often, the mean of these metrics is taken as the final result.\n",
        "\n",
        "**Remarks**:\n",
        "- Each set of data is used once as the validation set and $K-1$ times as part of the training set.\n",
        "- The choice of the hyperparameter $K$ involves a bias-variance trade-off. Lower values of $K$ may result in higher bias but lower variance, while higher values of $K$ may lead to lower bias but higher variance.\n",
        "- Common choices for $K$ include $K=5$ or $K=10$.\n",
        "\n",
        "In this context, $K$-fold Cross Validation is used to tune the hyperparameter $\\lambda$ of the Ridge Regression algorithm, allowing for a comprehensive evaluation of its performance across different subsets of the dataset."
      ],
      "metadata": {
        "id": "eWD4eoISxd0K"
      },
      "id": "eWD4eoISxd0K"
    },
    {
      "cell_type": "code",
      "execution_count": 19,
      "id": "580dae1f",
      "metadata": {
        "id": "580dae1f"
      },
      "outputs": [],
      "source": [
        "d = 1\n",
        "w = np.random.normal(0, 1, d)\n",
        "sigma = 3\n",
        "points = 100\n",
        "m = -10\n",
        "M = 10\n",
        "iter = 100\n",
        "gamma = 0.001\n",
        "\n",
        "Xtr, ytr = datagen(d, points, m, M, w, sigma) # training dataset\n",
        "Xts, yts = datagen(d, points, m, M, w, sigma) # test dataset"
      ]
    },
    {
      "cell_type": "code",
      "execution_count": 20,
      "id": "99bcc287",
      "metadata": {
        "id": "99bcc287"
      },
      "outputs": [],
      "source": [
        "def KFoldCVRLS(Xtr, ytr, K, lam):\n",
        "    \"\"\"\n",
        "    Parameters\n",
        "    ----------\n",
        "    Xtr : matrix of float of dim n x d\n",
        "        Dataset\n",
        "    Ytr : array of float of dim n\n",
        "        Ground truth values\n",
        "    K : int\n",
        "        Number of folds to split the data into\n",
        "    lam : array of float\n",
        "        Tuning hyperparameter under analysis\n",
        "    \"\"\"\n",
        "    num_hpar = len(lam) # number of possible values for the hyperparameter\n",
        "    points = Xtr.shape[0] # total training points\n",
        "    fold_size = int(np.ceil(points/K)) # size of each K-fold\n",
        "    # array containing the mean and std of the training error for each\n",
        "    # hyperparameter accross all K runs of CV\n",
        "    tr_mean = np.zeros(num_hpar)\n",
        "    val_mean = np.zeros(num_hpar)\n",
        "    # array containing the mean and std of the validation error for each\n",
        "    # hyperparameter accross all K runs of CV\n",
        "    tr_std = np.zeros(num_hpar)\n",
        "    val_std = np.zeros(num_hpar)\n",
        "    # random permutation of training data\n",
        "    rand_idx = np.random.choice(points, size=points, replace=False)\n",
        "    # train and validation loss for each of the K runs for each of the\n",
        "    # possible hyperparameter values\n",
        "    train_loss = np.zeros((num_hpar,K))\n",
        "    val_loss = np.zeros((num_hpar,K))\n",
        "\n",
        "    # loop across all hyperparameters values\n",
        "    for l_idx, l in enumerate(lam):\n",
        "        first = 0\n",
        "        # K-fold CV runs\n",
        "        for fold in range(K):\n",
        "            # create a mask to distinguish train and validation set for this run\n",
        "            flags = np.zeros(points)\n",
        "            flags[first:first + fold_size] = 1;\n",
        "            # construct the  training and validation set\n",
        "            X = Xtr[rand_idx[flags==0]]\n",
        "            y = ytr[rand_idx[flags==0]]\n",
        "            X_val = Xtr[rand_idx[flags==1]]\n",
        "            y_val = ytr[rand_idx[flags==1]]\n",
        "\n",
        "            # compute the training error of the Ridge regression for the given value of lambda\n",
        "            W, L = GDRidge(X, y, iter, gamma, points, d, l)\n",
        "            train_loss[l_idx, fold] = L[-1]\n",
        "\n",
        "            # compute the validation error of the regression for the given value of lambda\n",
        "            val_error = SquareLoss(X_val, y_val, W[:, -1])\n",
        "            val_loss[l_idx, fold] = val_error\n",
        "\n",
        "            # update the first position to select the next fold\n",
        "            first = first + fold_size\n",
        "\n",
        "        # summarize performance metrics\n",
        "        tr_mean[l_idx] = np.mean(train_loss[l_idx,:])\n",
        "        val_mean[l_idx] = np.mean(val_loss[l_idx,:])\n",
        "\n",
        "        tr_std[l_idx] = np.std(train_loss[l_idx,:])\n",
        "        val_std[l_idx] = np.std(val_loss[l_idx,:])\n",
        "\n",
        "    best_par_idx = np.argmin(val_mean)\n",
        "    best_par = lam[best_par_idx]\n",
        "\n",
        "    return best_par, val_mean, val_std, tr_mean, tr_std"
      ]
    },
    {
      "cell_type": "code",
      "execution_count": 21,
      "id": "570d9405",
      "metadata": {
        "id": "570d9405",
        "outputId": "3c0d9004-5430-4c65-81f6-3a7f200f7909",
        "colab": {
          "base_uri": "https://localhost:8080/"
        }
      },
      "outputs": [
        {
          "output_type": "stream",
          "name": "stdout",
          "text": [
            "Lambda is chosen among:  [0.  0.1 0.2 0.3 0.4 0.5 0.6 0.7 0.8 0.9 1. ]\n",
            "Best lambda:  0.0\n"
          ]
        }
      ],
      "source": [
        "K = 10\n",
        "lam = np.linspace(0, 1, 11)\n",
        "print('Lambda is chosen among: ', lam)\n",
        "\n",
        "best_par, val_mean, val_std, tr_mean, tr_std = KFoldCVRLS(Xtr, ytr, K, lam)\n",
        "print('Best lambda: ', best_par)"
      ]
    },
    {
      "cell_type": "code",
      "execution_count": 22,
      "id": "e9a3adc4",
      "metadata": {
        "id": "e9a3adc4",
        "outputId": "8b9051ef-ac32-416d-989b-deb847705781",
        "colab": {
          "base_uri": "https://localhost:8080/",
          "height": 450
        }
      },
      "outputs": [
        {
          "output_type": "display_data",
          "data": {
            "text/plain": [
              "<Figure size 640x480 with 1 Axes>"
            ],
            "image/png": "[encoded data removed]"
          },
          "metadata": {}
        }
      ],
      "source": [
        "plt.errorbar(lam, tr_mean, yerr=tr_std, label= 'Training Loss')\n",
        "plt.errorbar(lam, val_mean, yerr=val_std, label= 'Validation Loss')\n",
        "plt.xlabel(r'$\\lambda$')\n",
        "plt.ylabel('Loss')\n",
        "plt.legend()\n",
        "plt.show();"
      ]
    },
    {
      "cell_type": "markdown",
      "source": [
        "**Additional Resources**\n",
        "\n",
        "\n",
        "\n",
        "*   [Regularization Part 1: Ridge (L2) Regression](https://youtu.be/Q81RR3yKn30?si=8zRBumzaZ_zLO2Z5)\n",
        "*   [Regularization Part 2: Lasso (L1) Regression](https://youtu.be/NGf0voTMlcs?si=dYklAVtMtZKU2Vao)\n",
        "* [Ridge vs Lasso Regression, Visualized](https://www.youtube.com/watch?v=Xm2C_gTAl8c)\n",
        "\n"
      ],
      "metadata": {
        "id": "Mhp_6wz9bfK-"
      },
      "id": "Mhp_6wz9bfK-"
    }
  ],
  "metadata": {
    "kernelspec": {
      "display_name": "Python 3",
      "language": "python",
      "name": "python3"
    },
    "language_info": {
      "codemirror_mode": {
        "name": "ipython",
        "version": 3
      },
      "file_extension": ".py",
      "mimetype": "text/x-python",
      "name": "python",
      "nbconvert_exporter": "python",
      "pygments_lexer": "ipython3",
      "version": "3.7.10"
    },
    "colab": {
      "provenance": []
    }
  },
  "nbformat": 4,
  "nbformat_minor": 5
}